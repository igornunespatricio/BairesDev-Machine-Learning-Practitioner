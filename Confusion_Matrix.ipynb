{
  "nbformat": 4,
  "nbformat_minor": 0,
  "metadata": {
    "colab": {
      "provenance": [],
      "include_colab_link": true
    },
    "kernelspec": {
      "name": "python3",
      "display_name": "Python 3"
    },
    "language_info": {
      "name": "python"
    }
  },
  "cells": [
    {
      "cell_type": "markdown",
      "metadata": {
        "id": "view-in-github",
        "colab_type": "text"
      },
      "source": [
        "<a href=\"https://colab.research.google.com/github/igornunespatricio/BairesDev-Machine-Learning-Practitioner/blob/main/Confusion_Matrix.ipynb\" target=\"_parent\"><img src=\"https://colab.research.google.com/assets/colab-badge.svg\" alt=\"Open In Colab\"/></a>"
      ]
    },
    {
      "cell_type": "code",
      "source": [
        "from tensorflow.keras import datasets, layers, models\n",
        "import matplotlib.pyplot as plt\n",
        "import tensorflow as tf\n",
        "import numpy as np\n",
        "import seaborn as sns\n",
        "import pandas as pd\n",
        "from sklearn.metrics import classification_report, precision_recall_fscore_support, confusion_matrix, accuracy_score"
      ],
      "metadata": {
        "id": "TNgPzrKrpwEO"
      },
      "execution_count": 11,
      "outputs": []
    },
    {
      "cell_type": "code",
      "source": [
        "tf.__version__"
      ],
      "metadata": {
        "colab": {
          "base_uri": "https://localhost:8080/",
          "height": 35
        },
        "id": "UO16sfQXqOPt",
        "outputId": "351c4635-9317-471b-b416-82be219ff0b3"
      },
      "execution_count": 2,
      "outputs": [
        {
          "output_type": "execute_result",
          "data": {
            "text/plain": [
              "'2.17.1'"
            ],
            "application/vnd.google.colaboratory.intrinsic+json": {
              "type": "string"
            }
          },
          "metadata": {},
          "execution_count": 2
        }
      ]
    },
    {
      "cell_type": "code",
      "source": [
        "%load_ext tensorboard"
      ],
      "metadata": {
        "id": "x2aWYQ9WqUy_"
      },
      "execution_count": 3,
      "outputs": []
    },
    {
      "cell_type": "code",
      "source": [
        "logdir = 'log'"
      ],
      "metadata": {
        "id": "v4FU64B_qYRR"
      },
      "execution_count": 4,
      "outputs": []
    },
    {
      "cell_type": "code",
      "source": [
        "(train_images, train_labels), (test_images, test_labels) = datasets.mnist.load_data()\n",
        "\n",
        "train_images = train_images.reshape((60000, 28, 28, 1))\n",
        "test_images = test_images.reshape((10000, 28, 28, 1))\n",
        "\n",
        "train_images, test_images = train_images / 255.0, test_images / 255.0\n",
        "\n",
        "classes = [0,1,2,3,4,5,6,7,8,9]"
      ],
      "metadata": {
        "colab": {
          "base_uri": "https://localhost:8080/"
        },
        "id": "rZyjSpMfqcGT",
        "outputId": "f7d5252f-6c98-421a-829a-4ea7f2df415c"
      },
      "execution_count": 5,
      "outputs": [
        {
          "output_type": "stream",
          "name": "stdout",
          "text": [
            "Downloading data from https://storage.googleapis.com/tensorflow/tf-keras-datasets/mnist.npz\n",
            "\u001b[1m11490434/11490434\u001b[0m \u001b[32m━━━━━━━━━━━━━━━━━━━━\u001b[0m\u001b[37m\u001b[0m \u001b[1m0s\u001b[0m 0us/step\n"
          ]
        }
      ]
    },
    {
      "cell_type": "code",
      "source": [
        "model = models.Sequential()\n",
        "model.add(layers.Conv2D(32, (3, 3), activation='relu', input_shape=(28, 28, 1)))\n",
        "model.add(layers.MaxPooling2D((2, 2)))\n",
        "model.add(layers.Conv2D(64, (3, 3), activation='relu'))\n",
        "model.add(layers.MaxPooling2D((2, 2)))\n",
        "model.add(layers.Conv2D(64, (3, 3), activation='relu'))\n",
        "model.add(layers.Flatten())\n",
        "model.add(layers.Dense(64, activation='relu'))\n",
        "model.add(layers.Dense(10, activation='softmax'))"
      ],
      "metadata": {
        "colab": {
          "base_uri": "https://localhost:8080/"
        },
        "id": "dQAqpDm0q1LR",
        "outputId": "2ee00159-5059-4b4c-bc11-3e2323a391af"
      },
      "execution_count": 6,
      "outputs": [
        {
          "output_type": "stream",
          "name": "stderr",
          "text": [
            "/usr/local/lib/python3.10/dist-packages/keras/src/layers/convolutional/base_conv.py:107: UserWarning: Do not pass an `input_shape`/`input_dim` argument to a layer. When using Sequential models, prefer using an `Input(shape)` object as the first layer in the model instead.\n",
            "  super().__init__(activity_regularizer=activity_regularizer, **kwargs)\n"
          ]
        }
      ]
    },
    {
      "cell_type": "code",
      "source": [
        "tensorboard_callback = tf.keras.callbacks.TensorBoard(log_dir=logdir, histogram_freq=1)"
      ],
      "metadata": {
        "id": "5KbgpV-IrEB6"
      },
      "execution_count": 7,
      "outputs": []
    },
    {
      "cell_type": "code",
      "source": [
        "model.compile(\n",
        "    optimizer='adam',\n",
        "    loss='sparse_categorical_crossentropy',\n",
        "    metrics=['accuracy']\n",
        ")\n",
        "\n",
        "model.fit(\n",
        "    train_images,\n",
        "    train_labels,\n",
        "    epochs=5,\n",
        "    validation_data=(test_images, test_labels),\n",
        "    callbacks=[tensorboard_callback]\n",
        ")"
      ],
      "metadata": {
        "colab": {
          "base_uri": "https://localhost:8080/"
        },
        "id": "kkdbmMNyrVYS",
        "outputId": "f84e7396-db64-4476-fc4e-702777b2db7d"
      },
      "execution_count": 8,
      "outputs": [
        {
          "output_type": "stream",
          "name": "stdout",
          "text": [
            "Epoch 1/5\n",
            "\u001b[1m1875/1875\u001b[0m \u001b[32m━━━━━━━━━━━━━━━━━━━━\u001b[0m\u001b[37m\u001b[0m \u001b[1m70s\u001b[0m 36ms/step - accuracy: 0.8982 - loss: 0.3355 - val_accuracy: 0.9841 - val_loss: 0.0475\n",
            "Epoch 2/5\n",
            "\u001b[1m1875/1875\u001b[0m \u001b[32m━━━━━━━━━━━━━━━━━━━━\u001b[0m\u001b[37m\u001b[0m \u001b[1m78s\u001b[0m 34ms/step - accuracy: 0.9842 - loss: 0.0490 - val_accuracy: 0.9895 - val_loss: 0.0351\n",
            "Epoch 3/5\n",
            "\u001b[1m1875/1875\u001b[0m \u001b[32m━━━━━━━━━━━━━━━━━━━━\u001b[0m\u001b[37m\u001b[0m \u001b[1m81s\u001b[0m 34ms/step - accuracy: 0.9902 - loss: 0.0309 - val_accuracy: 0.9898 - val_loss: 0.0318\n",
            "Epoch 4/5\n",
            "\u001b[1m1875/1875\u001b[0m \u001b[32m━━━━━━━━━━━━━━━━━━━━\u001b[0m\u001b[37m\u001b[0m \u001b[1m84s\u001b[0m 35ms/step - accuracy: 0.9924 - loss: 0.0242 - val_accuracy: 0.9890 - val_loss: 0.0309\n",
            "Epoch 5/5\n",
            "\u001b[1m1875/1875\u001b[0m \u001b[32m━━━━━━━━━━━━━━━━━━━━\u001b[0m\u001b[37m\u001b[0m \u001b[1m80s\u001b[0m 34ms/step - accuracy: 0.9942 - loss: 0.0174 - val_accuracy: 0.9908 - val_loss: 0.0296\n"
          ]
        },
        {
          "output_type": "execute_result",
          "data": {
            "text/plain": [
              "<keras.src.callbacks.history.History at 0x78fa5ea2dcc0>"
            ]
          },
          "metadata": {},
          "execution_count": 8
        }
      ]
    },
    {
      "cell_type": "code",
      "source": [
        "y_true = test_labels\n",
        "y_pred = np.argmax(model.predict(test_images), axis=-1)"
      ],
      "metadata": {
        "colab": {
          "base_uri": "https://localhost:8080/"
        },
        "id": "FiqFceGxrq53",
        "outputId": "20ab9a77-fdd4-42f7-8f84-fcc155dd9ffd"
      },
      "execution_count": 9,
      "outputs": [
        {
          "output_type": "stream",
          "name": "stdout",
          "text": [
            "\u001b[1m313/313\u001b[0m \u001b[32m━━━━━━━━━━━━━━━━━━━━\u001b[0m\u001b[37m\u001b[0m \u001b[1m4s\u001b[0m 12ms/step\n"
          ]
        }
      ]
    },
    {
      "cell_type": "code",
      "source": [
        "conf_mat = tf.math.confusion_matrix(y_true, y_pred).numpy()\n",
        "conf_mat_df = pd.DataFrame(conf_mat, index=classes, columns=classes)\n",
        "\n",
        "figure = plt.figure(figsize=(6,6))\n",
        "sns.heatmap(conf_mat_df, annot=True, cmap=plt.cm.Blues, fmt='.0f')\n",
        "plt.tight_layout()\n",
        "plt.ylabel('True label')\n",
        "plt.xlabel('Predicted label')\n",
        "plt.show()"
      ],
      "metadata": {
        "colab": {
          "base_uri": "https://localhost:8080/",
          "height": 626
        },
        "id": "NEkhRdCgr4K0",
        "outputId": "fef78e2a-ed6f-4616-f62a-cc2da58ff7af"
      },
      "execution_count": 10,
      "outputs": [
        {
          "output_type": "display_data",
          "data": {
            "text/plain": [
              "<Figure size 600x600 with 2 Axes>"
            ],
            "image/png": "[encoded data removed]"
          },
          "metadata": {}
        }
      ]
    },
    {
      "cell_type": "code",
      "source": [
        "# Get classification report\n",
        "report = classification_report(y_true, y_pred, digits=3)  # output_dict=True\n",
        "print(\"Classification Report:\\n\", report)\n",
        "\n",
        "# Alternatively, use precision_recall_fscore_support to get precision, recall, f1 and support for each class\n",
        "precision, recall, fscore, support = precision_recall_fscore_support(y_true, y_pred, average=None)\n",
        "\n",
        "# Print the individual metrics for each class\n",
        "for i, label in enumerate(np.unique(y_true)):\n",
        "    print(f\"Class {label}: Precision={precision[i]}, Recall={recall[i]}, F1-Score={fscore[i]}\")\n",
        "\n",
        "# Calculate accuracy\n",
        "accuracy = accuracy_score(y_true, y_pred)\n",
        "print(\"Accuracy:\", accuracy)\n",
        "\n",
        "# Compute metrics for overall average (macro or weighted)\n",
        "# Macro average gives equal weight to each class, regardless of size\n",
        "precision_macro = np.mean(precision)\n",
        "recall_macro = np.mean(recall)\n",
        "fscore_macro = np.mean(fscore)\n",
        "\n",
        "# Weighted average gives weight to each class based on the support (number of true samples)\n",
        "precision_weighted = np.average(precision, weights=support)\n",
        "recall_weighted = np.average(recall, weights=support)\n",
        "fscore_weighted = np.average(fscore, weights=support)\n",
        "\n",
        "print(f\"Macro average: Precision={precision_macro}, Recall={recall_macro}, F1-Score={fscore_macro}\")\n",
        "print(f\"Weighted average: Precision={precision_weighted}, Recall={recall_weighted}, F1-Score={fscore_weighted}\")\n"
      ],
      "metadata": {
        "id": "UeXFHpbkbdFk",
        "colab": {
          "base_uri": "https://localhost:8080/"
        },
        "outputId": "80a8c028-5947-4f3c-88c5-6374e483e875"
      },
      "execution_count": 14,
      "outputs": [
        {
          "output_type": "stream",
          "name": "stdout",
          "text": [
            "Classification Report:\n",
            "               precision    recall  f1-score   support\n",
            "\n",
            "           0      0.995     0.990     0.992       980\n",
            "           1      0.996     0.990     0.993      1135\n",
            "           2      0.989     0.993     0.991      1032\n",
            "           3      0.983     1.000     0.992      1010\n",
            "           4      0.997     0.990     0.993       982\n",
            "           5      0.995     0.987     0.991       892\n",
            "           6      0.983     0.994     0.989       958\n",
            "           7      0.994     0.980     0.987      1028\n",
            "           8      0.989     0.996     0.992       974\n",
            "           9      0.986     0.989     0.988      1009\n",
            "\n",
            "    accuracy                          0.991     10000\n",
            "   macro avg      0.991     0.991     0.991     10000\n",
            "weighted avg      0.991     0.991     0.991     10000\n",
            "\n",
            "Class 0: Precision=0.9948717948717949, Recall=0.9897959183673469, F1-Score=0.9923273657289002\n",
            "Class 1: Precision=0.995571302037201, Recall=0.9903083700440528, F1-Score=0.9929328621908127\n",
            "Class 2: Precision=0.9893822393822393, Recall=0.9932170542635659, F1-Score=0.9912959381044487\n",
            "Class 3: Precision=0.9834469328140214, Recall=1.0, F1-Score=0.9916543937162494\n",
            "Class 4: Precision=0.9969230769230769, Recall=0.9898167006109979, F1-Score=0.9933571793561574\n",
            "Class 5: Precision=0.995475113122172, Recall=0.9865470852017937, F1-Score=0.990990990990991\n",
            "Class 6: Precision=0.9834710743801653, Recall=0.9937369519832986, F1-Score=0.9885773624091381\n",
            "Class 7: Precision=0.9940769990128332, Recall=0.9795719844357976, F1-Score=0.9867711905928467\n",
            "Class 8: Precision=0.9887869520897044, Recall=0.9958932238193019, F1-Score=0.9923273657289002\n",
            "Class 9: Precision=0.9861660079051383, Recall=0.9890981169474727, F1-Score=0.987629886194953\n",
            "Accuracy: 0.9908\n",
            "Macro average: Precision=0.9908171492538347, Recall=0.9907985405673628, F1-Score=0.9907864535013398\n",
            "Weighted average: Precision=0.9908410359967702, Recall=0.9908, F1-Score=0.9907991983377864\n"
          ]
        }
      ]
    },
    {
      "cell_type": "code",
      "source": [
        "from imblearn.metrics import specificity_score\n",
        "\n",
        "# Calculate specificity for each class\n",
        "specificity = specificity_score(y_true, y_pred, average=None)\n",
        "\n",
        "# Print the specificity for each class\n",
        "for i, spec in enumerate(specificity):\n",
        "    print(f\"Specificity for class {i}: {spec:.3f}\")\n",
        "\n",
        "print(f\"Macro average: Specificity {specificity_score(y_true, y_pred, average='macro')}\")\n",
        "print(f\"Weighted average: Specificity {specificity_score(y_true, y_pred, average='weighted')}\")"
      ],
      "metadata": {
        "colab": {
          "base_uri": "https://localhost:8080/"
        },
        "id": "I0jzG805KpzG",
        "outputId": "eb051f24-f83a-4fa4-b491-9cbcc5da7015"
      },
      "execution_count": 17,
      "outputs": [
        {
          "output_type": "stream",
          "name": "stdout",
          "text": [
            "Specificity for class 0: 0.999\n",
            "Specificity for class 1: 0.999\n",
            "Specificity for class 2: 0.999\n",
            "Specificity for class 3: 0.998\n",
            "Specificity for class 4: 1.000\n",
            "Specificity for class 5: 1.000\n",
            "Specificity for class 6: 0.998\n",
            "Specificity for class 7: 0.999\n",
            "Specificity for class 8: 0.999\n",
            "Specificity for class 9: 0.998\n",
            "Macro average: Specificity 0.998977816330801\n",
            "Weighted average: Specificity 0.9989781633080089\n"
          ]
        }
      ]
    }
  ]
}